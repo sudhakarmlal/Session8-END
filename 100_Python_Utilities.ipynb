{
  "nbformat": 4,
  "nbformat_minor": 0,
  "metadata": {
    "colab": {
      "name": "100 Python Utilities.ipynb",
      "provenance": [],
      "authorship_tag": "ABX9TyOblkCHHwZOMXsY2wgFOIjU",
      "include_colab_link": true
    },
    "kernelspec": {
      "name": "python3",
      "display_name": "Python 3"
    }
  },
  "cells": [
    {
      "cell_type": "markdown",
      "metadata": {
        "id": "view-in-github",
        "colab_type": "text"
      },
      "source": [
        "<a href=\"https://colab.research.google.com/github/sudhakarmlal/Session8-END/blob/main/100_Python_Utilities.ipynb\" target=\"_parent\"><img src=\"https://colab.research.google.com/assets/colab-badge.svg\" alt=\"Open In Colab\"/></a>"
      ]
    },
    {
      "cell_type": "code",
      "metadata": {
        "colab": {
          "base_uri": "https://localhost:8080/"
        },
        "id": "OtPJt07fFmDt",
        "outputId": "6dcedc39-e1a3-41a5-f771-fa5bb74ccbd2"
      },
      "source": [
        "# 1 Program:\r\n",
        "\r\n",
        "#Write a program that accepts a comma separated sequence of words as \r\n",
        "#input and prints the words in a comma-separated sequence after sorting them alphabetically. \r\n",
        "#Suppose the following input is supplied to the program: without,hello,bag,world Then, the output should be: bag,hello,without,world\r\n",
        "\r\n",
        "\r\n",
        "items=[x for x in input().split(',')]\r\n",
        "items.sort()\r\n",
        "print(','.join(items))"
      ],
      "execution_count": 7,
      "outputs": [
        {
          "output_type": "stream",
          "text": [
            "Hello,test the input,check the words in the sentence,split them by comma\n",
            "Hello,check the words in the sentence,split them by comma,test the input\n"
          ],
          "name": "stdout"
        }
      ]
    },
    {
      "cell_type": "code",
      "metadata": {
        "colab": {
          "base_uri": "https://localhost:8080/"
        },
        "id": "K2dD9iw1GJpo",
        "outputId": "0a7ae973-44c4-4791-de52-904bc957ade1"
      },
      "source": [
        "# 2 Program : Capitalizing set of lines given as input\r\n",
        "\r\n",
        "lines = []\r\n",
        "while True:\r\n",
        "    s = input()\r\n",
        "    if s:\r\n",
        "        lines.append(s.upper())\r\n",
        "    else:\r\n",
        "        break;\r\n",
        "\r\n",
        "for sentence in lines:\r\n",
        "    print(sentence)"
      ],
      "execution_count": 8,
      "outputs": [
        {
          "output_type": "stream",
          "text": [
            "Hello How are u\n",
            "Hello Iam fine\n",
            "So whats up\n",
            "\n",
            "HELLO HOW ARE U\n",
            "HELLO IAM FINE\n",
            "SO WHATS UP\n"
          ],
          "name": "stdout"
        }
      ]
    },
    {
      "cell_type": "code",
      "metadata": {
        "colab": {
          "base_uri": "https://localhost:8080/"
        },
        "id": "Zdq9m5cYG3bE",
        "outputId": "1d256c0f-512b-4720-b1db-5f17e12ba4d3"
      },
      "source": [
        "# 3 Program :\r\n",
        "#Write a program that accepts a sequence of whitespace separated words as\r\n",
        "#input and prints the words after removing all duplicate words and sorting them alphanumerically. \r\n",
        "#Suppose the following input is supplied to the program: hello world and practice makes perfect and hello world again\r\n",
        "#Then, the output should be: again and hello makes perfect practice world\r\n",
        "\r\n",
        "s = input()\r\n",
        "words = [word for word in s.split(\" \")]\r\n",
        "print(\" \".join(sorted(list(set(words)))))\r\n",
        "\r\n"
      ],
      "execution_count": 10,
      "outputs": [
        {
          "output_type": "stream",
          "text": [
            "hello world and practice makes perfect and hello world again\n",
            "again and hello makes perfect practice world\n"
          ],
          "name": "stdout"
        }
      ]
    },
    {
      "cell_type": "code",
      "metadata": {
        "colab": {
          "base_uri": "https://localhost:8080/"
        },
        "id": "ylHTZjXlI9c-",
        "outputId": "0e5b2905-8502-42a1-bc9d-d32cb57ed85a"
      },
      "source": [
        "#4 Function:\r\n",
        "#Define a class which has at least two methods: getString: to get a string from console input printString: to print the string in upper case. \r\n",
        "#Also please include simple test function to test the class methods.\r\n",
        "\r\n",
        "class InputOutString(object):\r\n",
        "    def __init__(self):\r\n",
        "        self.s = \"\"\r\n",
        "\r\n",
        "    def getString(self):\r\n",
        "        self.s = input()\r\n",
        "    \r\n",
        "    def printString(self):\r\n",
        "        print(self.s.upper())\r\n",
        "\r\n",
        "strObj = InputOutString()\r\n",
        "strObj.getString()\r\n",
        "strObj.printString()"
      ],
      "execution_count": 11,
      "outputs": [
        {
          "output_type": "stream",
          "text": [
            "Test Input String \n",
            "TEST INPUT STRING \n"
          ],
          "name": "stdout"
        }
      ]
    },
    {
      "cell_type": "code",
      "metadata": {
        "colab": {
          "base_uri": "https://localhost:8080/"
        },
        "id": "CK41LhHKJ9dD",
        "outputId": "2a3be408-1507-4d48-cc66-f1f0e819bfa6"
      },
      "source": [
        "#5 Program:\r\n",
        "# Write a program which takes 2 digits, X,Y as input and generates a 2-dimensional array. \r\n",
        "## The element value in the i-th row and j-th column of the array should be i*j. Note: i=0,1.., X-1; j=0,1,¡­Y-1. Example Suppose the following inputs are given to the program: 3,5 \r\n",
        "## Then, the output of the program should be: [[0, 0, 0, 0, 0], [0, 1, 2, 3, 4], [0, 2, 4, 6, 8]]\r\n",
        "\r\n",
        "input_str = input()\r\n",
        "dimensions=[int(x) for x in input_str.split(',')]\r\n",
        "rowNum=dimensions[0]\r\n",
        "colNum=dimensions[1]\r\n",
        "multilist = [[0 for col in range(colNum)] for row in range(rowNum)]\r\n",
        "\r\n",
        "for row in range(rowNum):\r\n",
        "    for col in range(colNum):\r\n",
        "        multilist[row][col]= row*col\r\n",
        "\r\n",
        "print(multilist)"
      ],
      "execution_count": 12,
      "outputs": [
        {
          "output_type": "stream",
          "text": [
            "3,5\n",
            "[[0, 0, 0, 0, 0], [0, 1, 2, 3, 4], [0, 2, 4, 6, 8]]\n"
          ],
          "name": "stdout"
        }
      ]
    },
    {
      "cell_type": "code",
      "metadata": {
        "colab": {
          "base_uri": "https://localhost:8080/"
        },
        "id": "oAA4zgQeKg_h",
        "outputId": "4236f61c-d0c7-477a-9c79-96b6875a7caa"
      },
      "source": [
        "#6 Program:\r\n",
        "\r\n",
        "#Write a program, which will find all such numbers between 4000 and 5000 (both included) \r\n",
        "#such that each digit of the number is an even number. \r\n",
        "#The numbers obtained should be printed in a comma-separated sequence on a single line.\r\n",
        "\r\n",
        "values = []\r\n",
        "for i in range(4000, 5001):\r\n",
        "    s = str(i)\r\n",
        "    if (int(s[0])%2==0) and (int(s[1])%2==0) and (int(s[2])%2==0) and (int(s[3])%2==0):\r\n",
        "        values.append(s)\r\n",
        "print(\",\".join(values))"
      ],
      "execution_count": 13,
      "outputs": [
        {
          "output_type": "stream",
          "text": [
            "4000,4002,4004,4006,4008,4020,4022,4024,4026,4028,4040,4042,4044,4046,4048,4060,4062,4064,4066,4068,4080,4082,4084,4086,4088,4200,4202,4204,4206,4208,4220,4222,4224,4226,4228,4240,4242,4244,4246,4248,4260,4262,4264,4266,4268,4280,4282,4284,4286,4288,4400,4402,4404,4406,4408,4420,4422,4424,4426,4428,4440,4442,4444,4446,4448,4460,4462,4464,4466,4468,4480,4482,4484,4486,4488,4600,4602,4604,4606,4608,4620,4622,4624,4626,4628,4640,4642,4644,4646,4648,4660,4662,4664,4666,4668,4680,4682,4684,4686,4688,4800,4802,4804,4806,4808,4820,4822,4824,4826,4828,4840,4842,4844,4846,4848,4860,4862,4864,4866,4868,4880,4882,4884,4886,4888\n"
          ],
          "name": "stdout"
        }
      ]
    },
    {
      "cell_type": "code",
      "metadata": {
        "colab": {
          "base_uri": "https://localhost:8080/"
        },
        "id": "MQ6ii7jILAPA",
        "outputId": "cca42c1e-55ae-4e02-d576-a46658e33c4c"
      },
      "source": [
        "#7 Program:\r\n",
        "\r\n",
        "#Write a program that accepts a sentence and calculate the number of letters and digits. \r\n",
        "#Suppose the following input is supplied to the program: hello world! 123 Then, the output should be: LETTERS 10 DIGITS 3\r\n",
        "\r\n",
        "s = input()\r\n",
        "d={\"DIGITS\":0, \"LETTERS\":0}\r\n",
        "for c in s:\r\n",
        "    if c.isdigit():\r\n",
        "        d[\"DIGITS\"]+=1\r\n",
        "    elif c.isalpha():\r\n",
        "        d[\"LETTERS\"]+=1\r\n",
        "    else:\r\n",
        "        pass\r\n",
        "print(\"LETTERS\", d[\"LETTERS\"])\r\n",
        "print(\"DIGITS\", d[\"DIGITS\"])"
      ],
      "execution_count": 14,
      "outputs": [
        {
          "output_type": "stream",
          "text": [
            "hello world! 123\n",
            "LETTERS 10\n",
            "DIGITS 3\n"
          ],
          "name": "stdout"
        }
      ]
    },
    {
      "cell_type": "code",
      "metadata": {
        "colab": {
          "base_uri": "https://localhost:8080/"
        },
        "id": "MH8MHvhkLW7w",
        "outputId": "5aeb7679-fc40-4c61-ebb3-01f6bb5f0454"
      },
      "source": [
        "#8 Program:\r\n",
        "\r\n",
        "#Write a program that accepts a sentence and calculate the number of upper case letters and lower case letters. Suppose the following input is supplied to the program: \r\n",
        "#Hello world! Then, the output should be: UPPER CASE 1 LOWER CASE 9\r\n",
        "\r\n",
        "s = input()\r\n",
        "d={\"UPPER CASE\":0, \"LOWER CASE\":0}\r\n",
        "for c in s:\r\n",
        "    if c.isupper():\r\n",
        "        d[\"UPPER CASE\"]+=1\r\n",
        "    elif c.islower():\r\n",
        "        d[\"LOWER CASE\"]+=1\r\n",
        "    else:\r\n",
        "        pass\r\n",
        "print(\"UPPER CASE\", d[\"UPPER CASE\"])\r\n",
        "print(\"LOWER CASE\", d[\"LOWER CASE\"])\r\n",
        "\r\n"
      ],
      "execution_count": 15,
      "outputs": [
        {
          "output_type": "stream",
          "text": [
            "Hello world!\n",
            "UPPER CASE 1\n",
            "LOWER CASE 9\n"
          ],
          "name": "stdout"
        }
      ]
    },
    {
      "cell_type": "code",
      "metadata": {
        "id": "1ieq92JvCh-s",
        "colab": {
          "base_uri": "https://localhost:8080/"
        },
        "outputId": "88e6e889-133c-48b9-f94b-8dfcc3619c14"
      },
      "source": [
        "# 9 Program:\r\n",
        "\r\n",
        "# Write a program to Display the powers of 3 using anonymous function\r\n",
        "\r\n",
        "terms = 10\r\n",
        "\r\n",
        "\r\n",
        "# use anonymous function\r\n",
        "result = list(map(lambda x: 3 ** x, range(terms)))\r\n",
        "\r\n",
        "print(\"The total terms are:\",terms)\r\n",
        "for i in range(terms):\r\n",
        "   print(\"3 raised to power\",i,\"is\",result[i])"
      ],
      "execution_count": 3,
      "outputs": [
        {
          "output_type": "stream",
          "text": [
            "The total terms are: 10\n",
            "3 raised to power 0 is 1\n",
            "3 raised to power 1 is 3\n",
            "3 raised to power 2 is 9\n",
            "3 raised to power 3 is 27\n",
            "3 raised to power 4 is 81\n",
            "3 raised to power 5 is 243\n",
            "3 raised to power 6 is 729\n",
            "3 raised to power 7 is 2187\n",
            "3 raised to power 8 is 6561\n",
            "3 raised to power 9 is 19683\n"
          ],
          "name": "stdout"
        }
      ]
    },
    {
      "cell_type": "code",
      "metadata": {
        "colab": {
          "base_uri": "https://localhost:8080/"
        },
        "id": "GtEQL1gNEx6g",
        "outputId": "bcd06530-19e4-41c3-ecbc-4f5f7243eb30"
      },
      "source": [
        "#10 Python Function find the factors of a number\r\n",
        "\r\n",
        "# This function computes the factor of the argument passed\r\n",
        "def print_factors(x):\r\n",
        "   print(\"The factors of\",x,\"are:\")\r\n",
        "   for i in range(1, x + 1):\r\n",
        "       if x % i == 0:\r\n",
        "           print(i)\r\n",
        "\r\n",
        "num = 120\r\n",
        "\r\n",
        "print_factors(num)"
      ],
      "execution_count": 5,
      "outputs": [
        {
          "output_type": "stream",
          "text": [
            "The factors of 120 are:\n",
            "1\n",
            "2\n",
            "3\n",
            "4\n",
            "5\n",
            "6\n",
            "8\n",
            "10\n",
            "12\n",
            "15\n",
            "20\n",
            "24\n",
            "30\n",
            "40\n",
            "60\n",
            "120\n"
          ],
          "name": "stdout"
        }
      ]
    },
    {
      "cell_type": "code",
      "metadata": {
        "colab": {
          "base_uri": "https://localhost:8080/"
        },
        "id": "gxTN6ArZFd52",
        "outputId": "12173aa8-a36b-4d85-c894-3a3decf6b9c4"
      },
      "source": [
        "#11 Program \r\n",
        "\r\n",
        "#Write a program that computes the value of a+aa+aaa+aaaa with a given digit as the value of a. \r\n",
        "#Suppose the following input is supplied to the program: 9 Then, the output should be: 11106\r\n",
        "\r\n",
        "a = input()\r\n",
        "n1 = int( \"%s\" % a )\r\n",
        "n2 = int( \"%s%s\" % (a,a) )\r\n",
        "n3 = int( \"%s%s%s\" % (a,a,a) )\r\n",
        "n4 = int( \"%s%s%s%s\" % (a,a,a,a) )\r\n",
        "print(n1+n2+n3+n4)"
      ],
      "execution_count": 17,
      "outputs": [
        {
          "output_type": "stream",
          "text": [
            "9\n",
            "11106\n"
          ],
          "name": "stdout"
        }
      ]
    },
    {
      "cell_type": "code",
      "metadata": {
        "colab": {
          "base_uri": "https://localhost:8080/"
        },
        "id": "ZMDDmaZqMig5",
        "outputId": "3a309a34-7396-408a-a5a6-9a6452122eb6"
      },
      "source": [
        "#12 Program\r\n",
        "\r\n",
        "#Use a list comprehension to square each odd number in a list. The list is input by a sequence of comma-separated numbers. \r\n",
        "#Suppose the following input is supplied to the program: 1,2,3,4,5,6,7,8,9 Then, the output should be: 1,3,5,7,9\r\n",
        "\r\n",
        "\r\n",
        "values = input()\r\n",
        "numbers = [x for x in values.split(\",\") if int(x)%2!=0]\r\n",
        "print(\",\".join(numbers))\r\n"
      ],
      "execution_count": 23,
      "outputs": [
        {
          "output_type": "stream",
          "text": [
            "1,2,3,4,5,6,7,8,9\n",
            "1,3,5,7,9\n"
          ],
          "name": "stdout"
        }
      ]
    },
    {
      "cell_type": "code",
      "metadata": {
        "id": "8aFVgfbFQwsa"
      },
      "source": [
        "#13 Program"
      ],
      "execution_count": null,
      "outputs": []
    }
  ]
}